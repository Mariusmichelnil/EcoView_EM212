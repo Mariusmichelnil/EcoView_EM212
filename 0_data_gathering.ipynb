{
 "cells": [
  {
   "cell_type": "code",
   "execution_count": 2,
   "metadata": {},
   "outputs": [],
   "source": [
    "import requests\n",
    "import re\n",
    "import pandas as pd\n",
    "import matplotlib.pyplot as plt\n",
    "import matplotlib.ticker as plticker\n",
    "from tqdm.auto import tqdm\n",
    "import json\n",
    "import os\n",
    "import threading"
   ]
  },
  {
   "attachments": {},
   "cell_type": "markdown",
   "metadata": {},
   "source": [
    "First we collect 0.5 x 0.5 degree (approx 55 x 55 km) weather data from here: https://power.larc.nasa.gov/docs/services/api/temporal/daily/"
   ]
  },
  {
   "cell_type": "code",
   "execution_count": 3,
   "metadata": {},
   "outputs": [],
   "source": [
    "# Here are the most interesting parameters we want to consider to predict droughts\n",
    "params = [p.strip() for p in re.findall(\n",
    "\"\\S+\\s{3}\",\n",
    "\"\"\"\n",
    "WS10M_MIN      Minimum Wind Speed at 10 Meters (m/s) \n",
    "QV2M           Specific Humidity at 2 Meters (g/kg) \n",
    "T2M_RANGE      Temperature Range at 2 Meters (C) \n",
    "WS10M          Wind Speed at 10 Meters (m/s) \n",
    "T2M            Temperature at 2 Meters (C) \n",
    "WS50M_MIN      Minimum Wind Speed at 50 Meters (m/s) \n",
    "T2M_MAX        Maximum Temperature at 2 Meters (C) \n",
    "WS50M          Wind Speed at 50 Meters (m/s) \n",
    "TS             Earth Skin Temperature (C) \n",
    "WS50M_RANGE    Wind Speed Range at 50 Meters (m/s) \n",
    "WS50M_MAX      Maximum Wind Speed at 50 Meters (m/s) \n",
    "WS10M_MAX      Maximum Wind Speed at 10 Meters (m/s) \n",
    "WS10M_RANGE    Wind Speed Range at 10 Meters (m/s) \n",
    "PS             Surface Pressure (kPa) \n",
    "T2MDEW         Dew/Frost Point at 2 Meters (C) \n",
    "T2M_MIN        Minimum Temperature at 2 Meters (C) \n",
    "T2MWET         Wet Bulb Temperature at 2 Meters (C) \n",
    "PRECTOTCORR    Precipitation (mm day-1) \n",
    "\"\"\"\n",
    ")]"
   ]
  },
  {
   "cell_type": "code",
   "execution_count": 4,
   "metadata": {},
   "outputs": [
    {
     "data": {
      "text/plain": [
       "dict_keys(['WS10M_MIN', 'QV2M', 'T2M_RANGE', 'WS10M', 'T2M', 'WS50M_MIN', 'T2M_MAX', 'WS50M', 'TS', 'WS50M_RANGE', 'WS50M_MAX', 'WS10M_MAX', 'WS10M_RANGE', 'PS', 'T2MDEW', 'T2M_MIN', 'T2MWET', 'PRECTOTCORR'])"
      ]
     },
     "execution_count": 4,
     "metadata": {},
     "output_type": "execute_result"
    }
   ],
   "source": [
    "# Test the API to gather the data to see if it works\n",
    "output = r\"\"\n",
    "base_url = r\"https://power.larc.nasa.gov/api/temporal/daily/point?parameters={parameters}&community=sb&longitude={longitude}&latitude={latitude}&start={start_date}&end={end_date}&format={format}\"\n",
    "api_request_url = base_url.format(parameters=','.join(params),\n",
    "                                  longitude=0, \n",
    "                                  latitude=0,\n",
    "                                  start_date = 20180101,\n",
    "                                  end_date = 20230301,\n",
    "                                  format = 'JSON'\n",
    "                                  )\n",
    "response = requests.get(url=api_request_url, verify=True, timeout=30.00)\n",
    "data = response.json()\n",
    "response.json()['properties']['parameter'].keys()"
   ]
  },
  {
   "cell_type": "markdown",
   "metadata": {},
   "source": [
    "Get county lat/lon locations from here: https://en.wikipedia.org/wiki/User:Michael_J/County_table"
   ]
  },
  {
   "cell_type": "code",
   "execution_count": 6,
   "metadata": {},
   "outputs": [
    {
     "data": {
      "text/html": [
       "<div>\n",
       "<style scoped>\n",
       "    .dataframe tbody tr th:only-of-type {\n",
       "        vertical-align: middle;\n",
       "    }\n",
       "\n",
       "    .dataframe tbody tr th {\n",
       "        vertical-align: top;\n",
       "    }\n",
       "\n",
       "    .dataframe thead th {\n",
       "        text-align: right;\n",
       "    }\n",
       "</style>\n",
       "<table border=\"1\" class=\"dataframe\">\n",
       "  <thead>\n",
       "    <tr style=\"text-align: right;\">\n",
       "      <th></th>\n",
       "      <th>State</th>\n",
       "      <th>FIPS</th>\n",
       "      <th>County [2]</th>\n",
       "      <th>County Seat(s) [3]</th>\n",
       "      <th>Population(2010)</th>\n",
       "      <th>Land Areakm²</th>\n",
       "      <th>Land Areami²</th>\n",
       "      <th>Water Areakm²</th>\n",
       "      <th>Water Areami²</th>\n",
       "      <th>Total Areakm²</th>\n",
       "      <th>Total Areami²</th>\n",
       "      <th>Latitude</th>\n",
       "      <th>Longitude</th>\n",
       "    </tr>\n",
       "    <tr>\n",
       "      <th>Sort [1]</th>\n",
       "      <th></th>\n",
       "      <th></th>\n",
       "      <th></th>\n",
       "      <th></th>\n",
       "      <th></th>\n",
       "      <th></th>\n",
       "      <th></th>\n",
       "      <th></th>\n",
       "      <th></th>\n",
       "      <th></th>\n",
       "      <th></th>\n",
       "      <th></th>\n",
       "      <th></th>\n",
       "    </tr>\n",
       "  </thead>\n",
       "  <tbody>\n",
       "    <tr>\n",
       "      <th>1</th>\n",
       "      <td>AL</td>\n",
       "      <td>1001</td>\n",
       "      <td>Autauga</td>\n",
       "      <td>Prattville</td>\n",
       "      <td>54571</td>\n",
       "      <td>1539.582</td>\n",
       "      <td>594.436</td>\n",
       "      <td>25.776</td>\n",
       "      <td>9.952</td>\n",
       "      <td>1565.358</td>\n",
       "      <td>604.388</td>\n",
       "      <td>+32.536382°</td>\n",
       "      <td>–86.644490°</td>\n",
       "    </tr>\n",
       "    <tr>\n",
       "      <th>2</th>\n",
       "      <td>AL</td>\n",
       "      <td>1003</td>\n",
       "      <td>Baldwin</td>\n",
       "      <td>Bay Minette</td>\n",
       "      <td>182265</td>\n",
       "      <td>4117.522</td>\n",
       "      <td>1589.784</td>\n",
       "      <td>1133.190</td>\n",
       "      <td>437.527</td>\n",
       "      <td>5250.712</td>\n",
       "      <td>2027.311</td>\n",
       "      <td>+30.659218°</td>\n",
       "      <td>–87.746067°</td>\n",
       "    </tr>\n",
       "    <tr>\n",
       "      <th>3</th>\n",
       "      <td>AL</td>\n",
       "      <td>1005</td>\n",
       "      <td>Barbour</td>\n",
       "      <td>Clayton</td>\n",
       "      <td>27457</td>\n",
       "      <td>2291.819</td>\n",
       "      <td>884.876</td>\n",
       "      <td>50.865</td>\n",
       "      <td>19.639</td>\n",
       "      <td>2342.684</td>\n",
       "      <td>904.515</td>\n",
       "      <td>+31.870670°</td>\n",
       "      <td>–85.405456°</td>\n",
       "    </tr>\n",
       "    <tr>\n",
       "      <th>4</th>\n",
       "      <td>AL</td>\n",
       "      <td>1007</td>\n",
       "      <td>Bibb</td>\n",
       "      <td>Centreville</td>\n",
       "      <td>22915</td>\n",
       "      <td>1612.481</td>\n",
       "      <td>622.582</td>\n",
       "      <td>9.289</td>\n",
       "      <td>3.587</td>\n",
       "      <td>1621.770</td>\n",
       "      <td>626.169</td>\n",
       "      <td>+33.015893°</td>\n",
       "      <td>–87.127148°</td>\n",
       "    </tr>\n",
       "    <tr>\n",
       "      <th>5</th>\n",
       "      <td>AL</td>\n",
       "      <td>1009</td>\n",
       "      <td>Blount</td>\n",
       "      <td>Oneonta</td>\n",
       "      <td>57322</td>\n",
       "      <td>1669.962</td>\n",
       "      <td>644.776</td>\n",
       "      <td>15.157</td>\n",
       "      <td>5.852</td>\n",
       "      <td>1685.119</td>\n",
       "      <td>650.628</td>\n",
       "      <td>+33.977448°</td>\n",
       "      <td>–86.567246°</td>\n",
       "    </tr>\n",
       "  </tbody>\n",
       "</table>\n",
       "</div>"
      ],
      "text/plain": [
       "         State  FIPS County [2] County Seat(s) [3]  Population(2010)  \\\n",
       "Sort [1]                                                               \n",
       "1           AL  1001    Autauga         Prattville             54571   \n",
       "2           AL  1003    Baldwin        Bay Minette            182265   \n",
       "3           AL  1005    Barbour            Clayton             27457   \n",
       "4           AL  1007       Bibb        Centreville             22915   \n",
       "5           AL  1009     Blount            Oneonta             57322   \n",
       "\n",
       "          Land Areakm²  Land Areami² Water Areakm² Water Areami²  \\\n",
       "Sort [1]                                                           \n",
       "1             1539.582       594.436        25.776         9.952   \n",
       "2             4117.522      1589.784      1133.190       437.527   \n",
       "3             2291.819       884.876        50.865        19.639   \n",
       "4             1612.481       622.582         9.289         3.587   \n",
       "5             1669.962       644.776        15.157         5.852   \n",
       "\n",
       "          Total Areakm²  Total Areami²     Latitude    Longitude  \n",
       "Sort [1]                                                          \n",
       "1              1565.358        604.388  +32.536382°  –86.644490°  \n",
       "2              5250.712       2027.311  +30.659218°  –87.746067°  \n",
       "3              2342.684        904.515  +31.870670°  –85.405456°  \n",
       "4              1621.770        626.169  +33.015893°  –87.127148°  \n",
       "5              1685.119        650.628  +33.977448°  –86.567246°  "
      ]
     },
     "execution_count": 6,
     "metadata": {},
     "output_type": "execute_result"
    }
   ],
   "source": [
    "df = pd.read_html('https://en.wikipedia.org/wiki/User:Michael_J/County_table', index_col=0)[0]\n",
    "df.head()"
   ]
  },
  {
   "cell_type": "code",
   "execution_count": 7,
   "metadata": {},
   "outputs": [
    {
     "data": {
      "text/plain": [
       "<AxesSubplot:xlabel='Longitude', ylabel='Latitude'>"
      ]
     },
     "execution_count": 7,
     "metadata": {},
     "output_type": "execute_result"
    },
    {
     "data": {
      "image/png": "[encoded data removed]",
      "text/plain": [
       "<Figure size 432x288 with 1 Axes>"
      ]
     },
     "metadata": {
      "needs_background": "light"
     },
     "output_type": "display_data"
    }
   ],
   "source": [
    "# Let's try to visulize the counties we have\n",
    "float_degrees = lambda x: float(x.replace('°','').replace('–','-'))\n",
    "df['Latitude'] = df['Latitude'].apply(float_degrees)\n",
    "df['Longitude'] = df['Longitude'].apply(float_degrees)\n",
    "df.plot(x='Longitude', y='Latitude', kind='scatter')"
   ]
  },
  {
   "attachments": {},
   "cell_type": "markdown",
   "metadata": {},
   "source": [
    "Let's just keep the mainland"
   ]
  },
  {
   "cell_type": "code",
   "execution_count": 8,
   "metadata": {},
   "outputs": [
    {
     "data": {
      "image/png": "[encoded data removed]",
      "text/plain": [
       "<Figure size 432x288 with 1 Axes>"
      ]
     },
     "metadata": {
      "needs_background": "light"
     },
     "output_type": "display_data"
    }
   ],
   "source": [
    "df = df[df['Longitude']>-130]\n",
    "ax = df.plot(x='Longitude', y='Latitude', kind='scatter')"
   ]
  },
  {
   "attachments": {},
   "cell_type": "markdown",
   "metadata": {},
   "source": [
    "There are a lot fewer counties in the west than east."
   ]
  },
  {
   "cell_type": "code",
   "execution_count": 9,
   "metadata": {},
   "outputs": [
    {
     "data": {
      "image/png": "[encoded data removed]",
      "text/plain": [
       "<Figure size 432x288 with 1 Axes>"
      ]
     },
     "metadata": {},
     "output_type": "display_data"
    }
   ],
   "source": [
    "ax = df.plot(x='Longitude', y='Latitude', kind='scatter')\n",
    "plt.tick_params(\n",
    "    axis='both',\n",
    "    which='both',\n",
    "    bottom=False,\n",
    "    left=False,\n",
    "    labelleft=False,\n",
    "    labelbottom=False\n",
    ")\n",
    "ax.xaxis.set_major_locator(plticker.MultipleLocator(base=.5))\n",
    "ax.yaxis.set_major_locator(plticker.MultipleLocator(base=.5))\n",
    "plt.grid()"
   ]
  },
  {
   "cell_type": "markdown",
   "metadata": {},
   "source": [
    "Above shows the .5 x .5 grid of available weather data."
   ]
  },
  {
   "cell_type": "code",
   "execution_count": 10,
   "metadata": {},
   "outputs": [],
   "source": [
    "def get_weather(fips):\n",
    "    \"\"\" gather weather data per county\n",
    "\n",
    "    Args:\n",
    "        fips (str): county FIPS (id number)\n",
    "\n",
    "    Returns:\n",
    "        json: weather parameters defined in the parameter variable (see first cells)\n",
    "    \"\"\"\n",
    "    fips_county = df[df['FIPS']==fips]\n",
    "    lat, lon = fips_county['Latitude'].values[0], fips_county['Longitude'].values[0]\n",
    "    base_url = r\"https://power.larc.nasa.gov/api/temporal/daily/point?parameters={parameters}&community=sb&longitude={longitude}&latitude={latitude}&start={start_date}&end={end_date}&format={format}\"\n",
    "    api_request_url = base_url.format(parameters=','.join(params),\n",
    "                                    longitude=lon, \n",
    "                                    latitude=lat,\n",
    "                                    start_date = 20180101,\n",
    "                                    end_date = 20230301,\n",
    "                                    format = 'JSON'\n",
    "                                    )\n",
    "    response = requests.get(url=api_request_url, verify=True, timeout=30.00)\n",
    "    return response.json()['properties']['parameter']"
   ]
  },
  {
   "cell_type": "markdown",
   "metadata": {},
   "source": [
    "Let's now get drought values from https://droughtmonitor.unl.edu/WebServiceInfo.aspx#comp"
   ]
  },
  {
   "cell_type": "code",
   "execution_count": 11,
   "metadata": {},
   "outputs": [],
   "source": [
    "def get_drought(fips):\n",
    "    \"\"\" gather drought data per county\n",
    "\n",
    "    Args:\n",
    "        fips (str): county FIPS (id number)\n",
    "\n",
    "    Returns:\n",
    "        json: drought data from the government API\n",
    "    \"\"\"\n",
    "    return requests.get(\n",
    "        'https://usdmdataservices.unl.edu/api/CountyStatistics/GetDroughtSeverityStatisticsByAreaPercent',\n",
    "        {\n",
    "            'aoi': fips,\n",
    "            'startdate': '1/1/2018',\n",
    "            'enddate': '03/01/2023',\n",
    "            'statisticsType': 1,\n",
    "        }\n",
    "    ).json()"
   ]
  },
  {
   "cell_type": "code",
   "execution_count": 12,
   "metadata": {},
   "outputs": [],
   "source": [
    "def scrape_drought():\n",
    "    \"\"\"Function to scrape all the drought data for all the counties\n",
    "    \"\"\"\n",
    "    for i, row in tqdm(df.iterrows(), total=len(df)):\n",
    "        fips = row['FIPS']\n",
    "        if len(str(fips)) == 4:\n",
    "            str_fips = \"0\" + str(fips)\n",
    "        else:\n",
    "            str_fips = str(fips)\n",
    "        if not os.path.isfile(f'data/{fips}_drought.json'):\n",
    "            with open(f'data/{fips}_drought.json', 'w') as outfile:\n",
    "                json.dump(get_drought(str_fips), outfile)\n",
    "                \n",
    "def scrape_weather():\n",
    "    \"\"\"Function to scrape all the weather data for all the counties\n",
    "    \"\"\"\n",
    "    for i, row in tqdm(df.iterrows(), total=len(df)):\n",
    "        fips = row['FIPS']\n",
    "        if not os.path.isfile(f'data/{fips}_weather.json'):\n",
    "            with open(f'data/{fips}_weather.json', 'w') as outfile:\n",
    "                json.dump(get_weather(fips), outfile)"
   ]
  },
  {
   "cell_type": "code",
   "execution_count": 15,
   "metadata": {},
   "outputs": [
    {
     "data": {
      "application/vnd.jupyter.widget-view+json": {
       "model_id": "f6ed7e7797c843fd8497ae32b861595c",
       "version_major": 2,
       "version_minor": 0
      },
      "text/plain": [
       "  0%|          | 0/3109 [00:00<?, ?it/s]"
      ]
     },
     "metadata": {},
     "output_type": "display_data"
    }
   ],
   "source": [
    "drought_thread = threading.Thread(target=scrape_drought)\n",
    "drought_thread.start()"
   ]
  },
  {
   "cell_type": "code",
   "execution_count": 25,
   "metadata": {},
   "outputs": [
    {
     "data": {
      "application/vnd.jupyter.widget-view+json": {
       "model_id": "581e6d9942b54ac1ad489b53a993a8a7",
       "version_major": 2,
       "version_minor": 0
      },
      "text/plain": [
       "  0%|          | 0/3109 [00:00<?, ?it/s]"
      ]
     },
     "metadata": {},
     "output_type": "display_data"
    }
   ],
   "source": [
    "weather_thread = threading.Thread(target=scrape_weather)\n",
    "weather_thread.start()"
   ]
  },
  {
   "cell_type": "code",
   "execution_count": 34,
   "metadata": {},
   "outputs": [
    {
     "name": "stderr",
     "output_type": "stream",
     "text": [
      "Exception in thread Thread-10:\n",
      "Traceback (most recent call last):\n",
      "  File \"/Users/mariusmichel-nil/opt/anaconda3/lib/python3.9/threading.py\", line 973, in _bootstrap_inner\n",
      "    self.run()\n",
      "  File \"/Users/mariusmichel-nil/opt/anaconda3/lib/python3.9/threading.py\", line 910, in run\n",
      "    self._target(*self._args, **self._kwargs)\n",
      "  File \"/var/folders/6f/66wfylh56w70xn5j4ssvqd1c0000gn/T/ipykernel_14674/2135002512.py\", line 17, in scrape_weather\n",
      "  File \"/Users/mariusmichel-nil/opt/anaconda3/lib/python3.9/json/__init__.py\", line 180, in dump\n",
      "    fp.write(chunk)\n",
      "TimeoutError: [Errno 60] Operation timed out\n"
     ]
    }
   ],
   "source": [
    "df.to_csv('counties.csv')"
   ]
  }
 ],
 "metadata": {
  "kernelspec": {
   "display_name": "Python 3",
   "language": "python",
   "name": "python3"
  },
  "language_info": {
   "codemirror_mode": {
    "name": "ipython",
    "version": 3
   },
   "file_extension": ".py",
   "mimetype": "text/x-python",
   "name": "python",
   "nbconvert_exporter": "python",
   "pygments_lexer": "ipython3",
   "version": "3.9.12"
  }
 },
 "nbformat": 4,
 "nbformat_minor": 4
}
